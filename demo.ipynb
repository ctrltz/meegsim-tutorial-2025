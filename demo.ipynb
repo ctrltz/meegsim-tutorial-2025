{
 "cells": [
  {
   "cell_type": "code",
   "execution_count": null,
   "id": "6a6dc947",
   "metadata": {},
   "outputs": [],
   "source": [
    "import mne\n",
    "\n",
    "from mne.datasets import sample\n",
    "\n",
    "from meegsim.location import select_random\n",
    "from meegsim.waveform import narrowband_oscillation\n",
    "from meegsim.simulate import SourceSimulator"
   ]
  },
  {
   "cell_type": "code",
   "execution_count": null,
   "id": "a1145afa",
   "metadata": {},
   "outputs": [],
   "source": [
    "data_path = sample.data_path()\n",
    "subjects_dir = data_path / \"subjects\"\n",
    "src = mne.read_source_spaces(subjects_dir / \"fsaverage\" / \"bem\" / \"fsaverage-ico-5-src.fif\")"
   ]
  },
  {
   "cell_type": "code",
   "execution_count": null,
   "id": "b06e7dd1",
   "metadata": {},
   "outputs": [],
   "source": [
    "sim = SourceSimulator(src)\n",
    "sim.add_noise_sources(location=select_random,\n",
    "                      location_params=dict(n=100))\n",
    "sim.add_point_sources(location=select_random,\n",
    "                      location_params=dict(n=3),\n",
    "                      waveform=narrowband_oscillation,\n",
    "                      waveform_params=dict(fmin=8, fmax=12))\n",
    "sim.add_patch_sources(location=select_random,\n",
    "                      location_params=dict(n=3),\n",
    "                      waveform=narrowband_oscillation,\n",
    "                      waveform_params=dict(fmin=8, fmax=12),\n",
    "                      extents=15,\n",
    "                      subject=\"fsaverage\",\n",
    "                      subjects_dir=subjects_dir)"
   ]
  },
  {
   "cell_type": "code",
   "execution_count": null,
   "id": "3ea84186",
   "metadata": {},
   "outputs": [],
   "source": [
    "sc = sim.simulate(sfreq=250, duration=120)"
   ]
  },
  {
   "cell_type": "code",
   "execution_count": null,
   "id": "2049675b",
   "metadata": {},
   "outputs": [],
   "source": [
    "sc._sources"
   ]
  },
  {
   "cell_type": "code",
   "execution_count": null,
   "id": "39ad9e7f",
   "metadata": {},
   "outputs": [],
   "source": [
    "sc._noise_sources"
   ]
  },
  {
   "cell_type": "code",
   "execution_count": null,
   "id": "2fdfcb4b",
   "metadata": {},
   "outputs": [],
   "source": [
    "sc.plot(subject=\"fsaverage\", subjects_dir=subjects_dir)"
   ]
  },
  {
   "cell_type": "code",
   "execution_count": null,
   "id": "1e67dca6",
   "metadata": {},
   "outputs": [],
   "source": []
  }
 ],
 "metadata": {
  "kernelspec": {
   "display_name": "meegsim-test",
   "language": "python",
   "name": "python3"
  },
  "language_info": {
   "codemirror_mode": {
    "name": "ipython",
    "version": 3
   },
   "file_extension": ".py",
   "mimetype": "text/x-python",
   "name": "python",
   "nbconvert_exporter": "python",
   "pygments_lexer": "ipython3",
   "version": "3.13.0"
  }
 },
 "nbformat": 4,
 "nbformat_minor": 5
}
