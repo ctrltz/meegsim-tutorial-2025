{
 "cells": [
  {
   "cell_type": "markdown",
   "id": "e72d84c4",
   "metadata": {},
   "source": [
    "# Tutorial and demo of core MEEGsim features"
   ]
  },
  {
   "cell_type": "code",
   "execution_count": null,
   "id": "6a6dc947",
   "metadata": {},
   "outputs": [],
   "source": [
    "import mne\n",
    "\n",
    "from mne.datasets import sample\n",
    "\n",
    "from meegsim.location import select_random\n",
    "from meegsim.waveform import narrowband_oscillation\n",
    "from meegsim.simulate import SourceSimulator\n",
    "\n",
    "from meegsim_tutorial.utils import FILL_ME\n",
    "from meegsim_tutorial.viz import show_sources"
   ]
  },
  {
   "cell_type": "markdown",
   "id": "970cfebf",
   "metadata": {},
   "source": [
    "## 0. Configuration\n",
    "\n",
    "Below, provide the same path to the sample dataset that you used during the installation check."
   ]
  },
  {
   "cell_type": "code",
   "execution_count": null,
   "id": "60629b7e",
   "metadata": {},
   "outputs": [],
   "source": [
    "download_path = None\n",
    "# download_path = FILL_ME(\n",
    "#     \"Provide the same path (or use None) that used during the installation check.\"\n",
    "# )"
   ]
  },
  {
   "cell_type": "markdown",
   "id": "cf8be685",
   "metadata": {},
   "source": [
    "## 1. Navigating the source space\n",
    "\n",
    "Source space is one of the key ingredients in every simulation, since it defines location and orientations of all sources that we model. In this section, we have a closer look at how one can navigate the source space. \n",
    "\n",
    "**Take home:** in MEEGsim, we use two numbers to define position of sources that are added to the simulation: \n",
    " * index of the source space (0 - left hemisphere, 1 - right hemisphere) \n",
    " * index of the vertex within the respective hemisphere (`vertno`)."
   ]
  },
  {
   "cell_type": "markdown",
   "id": "1cd32f76",
   "metadata": {},
   "source": [
    "Let's create a source space using the template MPI (`fsaverage`) from the sample MNE dataset and inspect it first. The `spacing` parameter below defines how coarse the source space. We recommend using `oct5` throughout the tutorial to reduce the computational load during the workshop. Find more about other possible and recommended spacing values [here](https://mne.tools/stable/documentation/cookbook.html#setting-up-the-source-space)."
   ]
  },
  {
   "cell_type": "code",
   "execution_count": null,
   "id": "a1145afa",
   "metadata": {},
   "outputs": [],
   "source": [
    "data_path = sample.data_path(path=download_path)\n",
    "subject = \"fsaverage\"\n",
    "subjects_dir = data_path / \"subjects\"\n",
    "src = mne.setup_source_space(\n",
    "    subject=subject,\n",
    "    spacing=\"oct5\",\n",
    "    subjects_dir=subjects_dir,\n",
    "    add_dist=False\n",
    ")"
   ]
  },
  {
   "cell_type": "markdown",
   "id": "c8e7dc6c",
   "metadata": {},
   "source": [
    "If we print the resulting `src`, we get an overview of the generated source space: two hemispheres with 1026 vertices in each hemisphere. Hemisphere-specific data can be accessed with `src[0]` and  `src[1]` for left and right hemisphere, respectively."
   ]
  },
  {
   "cell_type": "code",
   "execution_count": null,
   "id": "ba0ef01b",
   "metadata": {},
   "outputs": [],
   "source": [
    "print(src)"
   ]
  },
  {
   "cell_type": "code",
   "execution_count": null,
   "id": "4d298c80",
   "metadata": {},
   "outputs": [],
   "source": [
    "src[0]"
   ]
  },
  {
   "cell_type": "markdown",
   "id": "1b485c97",
   "metadata": {},
   "source": [
    "It is also possible to visualize the positions of all sources on the brain surface. Each source is a dipole that corresponds to a group of aligned pyramidal neurons:"
   ]
  },
  {
   "cell_type": "code",
   "execution_count": null,
   "id": "5767fc9f",
   "metadata": {},
   "outputs": [],
   "source": [
    "mne.viz.plot_alignment(\n",
    "    subject=subject,\n",
    "    subjects_dir=subjects_dir,\n",
    "    surfaces=\"white\",\n",
    "    coord_frame=\"mri\",\n",
    "    src=src,\n",
    ")"
   ]
  },
  {
   "cell_type": "markdown",
   "id": "8a074689",
   "metadata": {},
   "source": [
    "Each vertex has a unique number between 0 and 163841. The `vertno` array stored indices of all vertices that belong to the source space (in this case, the left hemisphere):"
   ]
  },
  {
   "cell_type": "code",
   "execution_count": null,
   "id": "70a1a35d",
   "metadata": {},
   "outputs": [],
   "source": [
    "src[0][\"vertno\"]"
   ]
  },
  {
   "cell_type": "markdown",
   "id": "987a7ba4",
   "metadata": {},
   "source": [
    "In MEEGsim, we use the combination of the hemisphere index (0/1) and `vertno` to define the position of added sources. You can try it out below in a small example (not yet simulation). The helper function `show_source` will show the source that is defined by `hemi_idx` and `vertno` below."
   ]
  },
  {
   "cell_type": "code",
   "execution_count": null,
   "id": "2a013729",
   "metadata": {},
   "outputs": [],
   "source": [
    "hemi_idx = 0\n",
    "vertno = 163694"
   ]
  },
  {
   "cell_type": "code",
   "execution_count": null,
   "id": "b16f74ee",
   "metadata": {},
   "outputs": [],
   "source": [
    "# TIP: add surf=\"pial\" or surf=\"pial_semi_inflated\" to show sulci/gyri\n",
    "show_sources([(hemi_idx, vertno)], subjects_dir)"
   ]
  },
  {
   "cell_type": "markdown",
   "id": "2645b597",
   "metadata": {},
   "source": [
    "**EXERCISES**:\n",
    "1. Try moving the source to the right hemisphere.\n",
    "2. Try changing the `vertno` value to select a source in frontal/occipital/your favorite area."
   ]
  },
  {
   "cell_type": "markdown",
   "id": "3a7a396f",
   "metadata": {},
   "source": [
    "Sometimes, it can be useful to choose vertices randomly, and the [`select_random`](https://meegsim.readthedocs.io/en/latest/generated/meegsim.location.select_random.html) function can be used for this purpose. Notice the format of its output (pairs of numbers):"
   ]
  },
  {
   "cell_type": "code",
   "execution_count": null,
   "id": "e9d093d1",
   "metadata": {},
   "outputs": [],
   "source": [
    "select_random(src, n=10)"
   ]
  },
  {
   "cell_type": "code",
   "execution_count": null,
   "id": "1b6b0df3",
   "metadata": {},
   "outputs": [],
   "source": [
    "show_sources(select_random(src, n=10), subjects_dir)"
   ]
  },
  {
   "cell_type": "markdown",
   "id": "f01570c5",
   "metadata": {},
   "source": [
    "## 2. Forward model"
   ]
  },
  {
   "cell_type": "markdown",
   "id": "11148fe3",
   "metadata": {},
   "source": [
    "## 3. Generating source activity"
   ]
  },
  {
   "cell_type": "code",
   "execution_count": null,
   "id": "04eea823",
   "metadata": {},
   "outputs": [],
   "source": []
  },
  {
   "cell_type": "code",
   "execution_count": null,
   "id": "b06e7dd1",
   "metadata": {},
   "outputs": [],
   "source": [
    "sim = SourceSimulator(src)\n",
    "sim.add_noise_sources(location=select_random, location_params=dict(n=100))\n",
    "sim.add_point_sources(\n",
    "    location=select_random,\n",
    "    location_params=dict(n=3),\n",
    "    waveform=narrowband_oscillation,\n",
    "    waveform_params=dict(fmin=8, fmax=12),\n",
    ")\n",
    "sim.add_patch_sources(\n",
    "    location=select_random,\n",
    "    location_params=dict(n=3),\n",
    "    waveform=narrowband_oscillation,\n",
    "    waveform_params=dict(fmin=8, fmax=12),\n",
    "    extents=15,\n",
    "    subject=\"fsaverage\",\n",
    "    subjects_dir=subjects_dir,\n",
    ")"
   ]
  },
  {
   "cell_type": "code",
   "execution_count": null,
   "id": "3ea84186",
   "metadata": {},
   "outputs": [],
   "source": [
    "sc = sim.simulate(sfreq=250, duration=120)"
   ]
  },
  {
   "cell_type": "code",
   "execution_count": null,
   "id": "2049675b",
   "metadata": {},
   "outputs": [],
   "source": [
    "sc._sources"
   ]
  },
  {
   "cell_type": "code",
   "execution_count": null,
   "id": "39ad9e7f",
   "metadata": {},
   "outputs": [],
   "source": [
    "sc._noise_sources"
   ]
  },
  {
   "cell_type": "code",
   "execution_count": null,
   "id": "2fdfcb4b",
   "metadata": {},
   "outputs": [],
   "source": [
    "sc.plot(subject=\"fsaverage\", subjects_dir=subjects_dir)"
   ]
  },
  {
   "cell_type": "code",
   "execution_count": null,
   "id": "1e67dca6",
   "metadata": {},
   "outputs": [],
   "source": []
  }
 ],
 "metadata": {
  "kernelspec": {
   "display_name": "meegsim-tutorial",
   "language": "python",
   "name": "python3"
  },
  "language_info": {
   "codemirror_mode": {
    "name": "ipython",
    "version": 3
   },
   "file_extension": ".py",
   "mimetype": "text/x-python",
   "name": "python",
   "nbconvert_exporter": "python",
   "pygments_lexer": "ipython3",
   "version": "3.13.5"
  }
 },
 "nbformat": 4,
 "nbformat_minor": 5
}
