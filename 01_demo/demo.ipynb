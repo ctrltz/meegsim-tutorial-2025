{
 "cells": [
  {
   "cell_type": "markdown",
   "id": "e72d84c4",
   "metadata": {},
   "source": [
    "# Tutorial and demo of core MEEGsim features\n",
    "\n",
    "In this tutorial/demo, we will start with the pre-requisites for the simulation (source space / forward model), then look into building blocks currently provided by MEEGsim and how one can combine them in a simulation.\n",
    "\n",
    "**NOTE:** this notebook is designed to run in full without you having to change anything in code apart from the path to the data (see [0. Configuration](#0-configuration) below). However, you're always welcome to explore and play around with the data. The **EXERCISES** part of sections below suggests some things you could try."
   ]
  },
  {
   "cell_type": "code",
   "execution_count": null,
   "id": "6a6dc947",
   "metadata": {},
   "outputs": [],
   "source": [
    "import matplotlib.pyplot as plt\n",
    "import mne\n",
    "import numpy as np\n",
    "\n",
    "from mne.datasets import fetch_fsaverage\n",
    "from pathlib import Path\n",
    "\n",
    "from meegsim.coupling import ppc_shifted_copy_with_noise\n",
    "from meegsim.location import select_random\n",
    "from meegsim.waveform import narrowband_oscillation, one_over_f_noise, white_noise\n",
    "from meegsim.simulate import SourceSimulator\n",
    "\n",
    "from meegsim_tutorial.utils import info_from_montage\n",
    "from meegsim_tutorial.viz import show_sources, show_waveforms, show_leadfield"
   ]
  },
  {
   "cell_type": "markdown",
   "id": "970cfebf",
   "metadata": {},
   "source": [
    "## 0. Configuration\n",
    "\n",
    "Below, provide the same path to the sample dataset that you used during the installation check."
   ]
  },
  {
   "cell_type": "code",
   "execution_count": null,
   "id": "60629b7e",
   "metadata": {},
   "outputs": [],
   "source": [
    "download_path = \"~/mne_data/\"\n",
    "subjects_dir = Path(download_path).expanduser().absolute() / \"MNE-fsaverage-data\"\n",
    "# download_path = FILL_ME(\n",
    "#     \"Provide the same path (or use None) that used during the installation check.\"\n",
    "# )"
   ]
  },
  {
   "cell_type": "code",
   "execution_count": null,
   "id": "1d9a52eb",
   "metadata": {},
   "outputs": [],
   "source": [
    "fs_dir = fetch_fsaverage(subjects_dir=subjects_dir)"
   ]
  },
  {
   "cell_type": "markdown",
   "id": "cf8be685",
   "metadata": {},
   "source": [
    "## 1. Navigating the source space\n",
    "\n",
    "Source space is one of the key ingredients in every simulation, since it defines location and orientations of all sources that we model. In this section, we have a closer look at how one can navigate the source space. \n",
    "\n",
    "**Take home:** in MEEGsim, we use two numbers to define position of sources that are added to the simulation: \n",
    " * index of the source space (0 - left hemisphere, 1 - right hemisphere) \n",
    " * index of the vertex within the respective hemisphere (`vertno`)."
   ]
  },
  {
   "cell_type": "markdown",
   "id": "1cd32f76",
   "metadata": {},
   "source": [
    "Let's create a source space using the template MPI (`fsaverage`) from the sample MNE dataset and inspect it first. The `spacing` parameter below defines how coarse the source space. We recommend using `oct5` throughout the tutorial to reduce the computational load during the workshop. Find more about other possible and recommended spacing values [here](https://mne.tools/stable/documentation/cookbook.html#setting-up-the-source-space)."
   ]
  },
  {
   "cell_type": "code",
   "execution_count": null,
   "id": "a1145afa",
   "metadata": {},
   "outputs": [],
   "source": [
    "subject = \"fsaverage\"\n",
    "src = mne.setup_source_space(\n",
    "    subject=subject, spacing=\"oct5\", subjects_dir=subjects_dir, add_dist=False\n",
    ")"
   ]
  },
  {
   "cell_type": "markdown",
   "id": "c8e7dc6c",
   "metadata": {},
   "source": [
    "If we print the resulting `src`, we get an overview of the generated source space: two hemispheres with 1026 vertices in each hemisphere. Hemisphere-specific data can be accessed with `src[0]` and  `src[1]` for left and right hemisphere, respectively."
   ]
  },
  {
   "cell_type": "code",
   "execution_count": null,
   "id": "ba0ef01b",
   "metadata": {},
   "outputs": [],
   "source": [
    "print(src)"
   ]
  },
  {
   "cell_type": "code",
   "execution_count": null,
   "id": "4d298c80",
   "metadata": {},
   "outputs": [],
   "source": [
    "src[0]"
   ]
  },
  {
   "cell_type": "markdown",
   "id": "1b485c97",
   "metadata": {},
   "source": [
    "It is also possible to visualize the positions of all sources on the brain surface. Each source is a dipole that corresponds to a group of aligned pyramidal neurons:"
   ]
  },
  {
   "cell_type": "code",
   "execution_count": null,
   "id": "5767fc9f",
   "metadata": {},
   "outputs": [],
   "source": [
    "mne.viz.plot_alignment(\n",
    "    subject=subject,\n",
    "    subjects_dir=subjects_dir,\n",
    "    surfaces=\"white\",\n",
    "    coord_frame=\"mri\",\n",
    "    src=src,\n",
    ")"
   ]
  },
  {
   "cell_type": "markdown",
   "id": "8a074689",
   "metadata": {},
   "source": [
    "Each vertex has a unique number between 0 and 163841. The `vertno` array stored indices of all vertices that belong to the source space (in this case, the left hemisphere):"
   ]
  },
  {
   "cell_type": "code",
   "execution_count": null,
   "id": "70a1a35d",
   "metadata": {},
   "outputs": [],
   "source": [
    "src[0][\"vertno\"]"
   ]
  },
  {
   "cell_type": "markdown",
   "id": "987a7ba4",
   "metadata": {},
   "source": [
    "In MEEGsim, we use the combination of the hemisphere index (0/1) and `vertno` to define the position of added sources. You can try it out below in a small example (not yet simulation). The helper function `show_source` will show the source that is defined by `hemi_idx` and `vertno` below."
   ]
  },
  {
   "cell_type": "code",
   "execution_count": null,
   "id": "2a013729",
   "metadata": {},
   "outputs": [],
   "source": [
    "hemi_idx = 0\n",
    "vertno = 0"
   ]
  },
  {
   "cell_type": "code",
   "execution_count": null,
   "id": "b16f74ee",
   "metadata": {},
   "outputs": [],
   "source": [
    "# TIP: add surf=\"pial\" or surf=\"pial_semi_inflated\" to show sulci/gyri\n",
    "brain = show_sources([(hemi_idx, vertno)], subjects_dir)"
   ]
  },
  {
   "cell_type": "markdown",
   "id": "2645b597",
   "metadata": {},
   "source": [
    "**EXERCISES**:\n",
    "1. Try moving the source to the right hemisphere.\n",
    "2. Try changing the `vertno` value to select a source in frontal/occipital/your favorite area."
   ]
  },
  {
   "cell_type": "markdown",
   "id": "3a7a396f",
   "metadata": {},
   "source": [
    "Sometimes, it can be useful to choose vertices randomly, and the [`select_random`](https://meegsim.readthedocs.io/en/latest/generated/meegsim.location.select_random.html) function can be used for this purpose. Notice the format of its output (pairs of numbers):"
   ]
  },
  {
   "cell_type": "code",
   "execution_count": null,
   "id": "e9d093d1",
   "metadata": {},
   "outputs": [],
   "source": [
    "select_random(src, n=10)"
   ]
  },
  {
   "cell_type": "code",
   "execution_count": null,
   "id": "1b6b0df3",
   "metadata": {},
   "outputs": [],
   "source": [
    "show_sources(select_random(src, n=10), subjects_dir)"
   ]
  },
  {
   "cell_type": "markdown",
   "id": "f01570c5",
   "metadata": {},
   "source": [
    "## 2. Forward model\n",
    "\n",
    "Forward model is the second key ingredient of all simulations. It provides a mapping between source- and sensor-space activity, which is described by the lead field matrix. In this section, we explore the lead field."
   ]
  },
  {
   "cell_type": "markdown",
   "id": "5b162148",
   "metadata": {},
   "source": [
    "### 2.1. Channel locations\n",
    "\n",
    "First, let's define channel locations for the simulated EEG setup. In MNE-Python, there are multiple [built-in channel configurations](https://mne.tools/stable/auto_tutorials/intro/40_sensor_locations.html#working-with-built-in-montages) (a.k.a. montages). In this tutorial, we will use the Biosemi64 montage with 64 channels, which is a common setup nowadays. Below, we first create an `mne.Info` object that describes channel locations and then plot them:"
   ]
  },
  {
   "cell_type": "code",
   "execution_count": null,
   "id": "5f58d36b",
   "metadata": {},
   "outputs": [],
   "source": [
    "info = info_from_montage(\"biosemi64\")"
   ]
  },
  {
   "cell_type": "code",
   "execution_count": null,
   "id": "242533ef",
   "metadata": {},
   "outputs": [],
   "source": [
    "fig, ax = plt.subplots(figsize=(4, 4))\n",
    "info.plot_sensors(sphere=\"eeglab\", axes=ax);"
   ]
  },
  {
   "cell_type": "markdown",
   "id": "eb223b77",
   "metadata": {},
   "source": [
    "### 2.2. Lead field\n",
    "\n",
    "With channel locations fixed, we are now ready to obtain the lead field. For this purpose, we use a pre-computed BEM (boundary element method) model of the template `fsaverage` head:"
   ]
  },
  {
   "cell_type": "code",
   "execution_count": null,
   "id": "d19d58e8",
   "metadata": {},
   "outputs": [],
   "source": [
    "bem = subjects_dir / subject / \"bem\" / \"fsaverage-5120-5120-5120-bem-sol.fif\"\n",
    "trans = subjects_dir / subject / \"bem\" / \"fsaverage-trans.fif\""
   ]
  },
  {
   "cell_type": "code",
   "execution_count": null,
   "id": "a10543b8",
   "metadata": {},
   "outputs": [],
   "source": [
    "fwd = mne.make_forward_solution(\n",
    "    info,\n",
    "    trans=trans,\n",
    "    src=src,\n",
    "    bem=bem,\n",
    "    eeg=True,\n",
    "    mindist=5.0,\n",
    "    n_jobs=None,\n",
    "    verbose=True,\n",
    ")"
   ]
  },
  {
   "cell_type": "markdown",
   "id": "851c08c1",
   "metadata": {},
   "source": [
    "By default, the forward model allows arbitrary orientations of sources. However, MEEGsim at the moment only supports fixed orientations along the normal to the cortical surface, so we need to convert the forward solution accordingly:"
   ]
  },
  {
   "cell_type": "code",
   "execution_count": null,
   "id": "51e982ed",
   "metadata": {},
   "outputs": [],
   "source": [
    "fwd = mne.convert_forward_solution(fwd, force_fixed=True)\n",
    "L = fwd[\"sol\"][\"data\"]\n",
    "print(L.shape)"
   ]
  },
  {
   "cell_type": "markdown",
   "id": "cddfd736",
   "metadata": {},
   "source": [
    "Matrix `L` defined above is the resulting lead field. It has 64 rows (1 row per channel) and 2052 columns (1 column per modeled source). Lead field describes how all sources get mixed when their activity is projected to sensor space. We can explore the lead field of separate sources to get a better feeling of the mixing process:"
   ]
  },
  {
   "cell_type": "code",
   "execution_count": null,
   "id": "0eed8768",
   "metadata": {},
   "outputs": [],
   "source": [
    "hemi_idx = 0\n",
    "vertno = 0"
   ]
  },
  {
   "cell_type": "code",
   "execution_count": null,
   "id": "4491b36e",
   "metadata": {},
   "outputs": [],
   "source": [
    "show_sources([(hemi_idx, vertno)], subjects_dir)"
   ]
  },
  {
   "cell_type": "code",
   "execution_count": null,
   "id": "215ffbb5",
   "metadata": {},
   "outputs": [],
   "source": [
    "fig = show_leadfield(fwd, info, hemi_idx, vertno)"
   ]
  },
  {
   "cell_type": "markdown",
   "id": "fe024381",
   "metadata": {},
   "source": [
    "**EXERCISE**: try changing `hemi_idx` and `vertno` and see how the lead field changes."
   ]
  },
  {
   "cell_type": "markdown",
   "id": "11148fe3",
   "metadata": {},
   "source": [
    "## 3. Generating source activity\n",
    "\n",
    "With source space and lead field in place, we are now ready to start simulating data. In this section, we will introduce basic waveforms of source activity - noise (white or 1/f) and oscillations. All waveforms are generated from white noise by processing (e.g., filtering) the signal to obtain the desired properties."
   ]
  },
  {
   "cell_type": "markdown",
   "id": "2e1cd3b0",
   "metadata": {},
   "source": [
    "Simulation of activity requires a vector of time points for each generated sample (similar to `raw.times` in MNE-Python). Below, we create such vector for 60 s of data with the sampling frequency of 250 Hz:"
   ]
  },
  {
   "cell_type": "code",
   "execution_count": null,
   "id": "c51d5191",
   "metadata": {},
   "outputs": [],
   "source": [
    "sfreq = 250\n",
    "duration = 60\n",
    "times = np.arange(sfreq * duration) / sfreq"
   ]
  },
  {
   "cell_type": "code",
   "execution_count": null,
   "id": "68c037cf",
   "metadata": {},
   "outputs": [],
   "source": [
    "times[:10]"
   ]
  },
  {
   "cell_type": "markdown",
   "id": "f51dc2b2",
   "metadata": {},
   "source": [
    "### 3.1. Noise: background (1/f) and sensor (white)"
   ]
  },
  {
   "cell_type": "code",
   "execution_count": null,
   "id": "b032d5fa",
   "metadata": {},
   "outputs": [],
   "source": [
    "n1 = one_over_f_noise(1, times, slope=1)\n",
    "n2 = one_over_f_noise(1, times, slope=1.5)\n",
    "n3 = white_noise(1, times)"
   ]
  },
  {
   "cell_type": "code",
   "execution_count": null,
   "id": "04eea823",
   "metadata": {},
   "outputs": [],
   "source": [
    "fig = show_waveforms(np.vstack([n1, n2, n3]), times, n_seconds=2)"
   ]
  },
  {
   "cell_type": "markdown",
   "id": "f7d6250f",
   "metadata": {},
   "source": [
    "**NOTE:** if you re-run, all cells of section 3.1, the resulting time series change randomly. This can be helpful when generating multiple datasets (i.e., \"subjects\") for the same simulation idea."
   ]
  },
  {
   "cell_type": "markdown",
   "id": "28ca7603",
   "metadata": {},
   "source": [
    "### 3.2. Oscillatory activity"
   ]
  },
  {
   "cell_type": "code",
   "execution_count": null,
   "id": "7ccc79ed",
   "metadata": {},
   "outputs": [],
   "source": [
    "s1 = narrowband_oscillation(1, times, fmin=8, fmax=12)\n",
    "s2 = narrowband_oscillation(1, times, fmin=16, fmax=24)"
   ]
  },
  {
   "cell_type": "code",
   "execution_count": null,
   "id": "5e56a011",
   "metadata": {},
   "outputs": [],
   "source": [
    "fig = show_waveforms(np.vstack([s1, s2]), times, n_seconds=2)"
   ]
  },
  {
   "cell_type": "markdown",
   "id": "5ec11308",
   "metadata": {},
   "source": [
    "## 4. Combining the ingredients\n",
    "\n",
    "By now, we learned how to place sources and generate their activity, but that doesn't feel like a proper simulation yet. It's time to combine the ingredients. For this purpose, we will use the `SourceSimulator` class provided by MEEGsim, which allows one to add sources (`add_point_sources`, `add_noise_sources`) to the simulation. When adding sources, we need to set their `location` and `waveform` either explicitly (`(hemi_idx, vertno)` and time course) or through a generating function (`select_random`, `one_over_f_noise`):"
   ]
  },
  {
   "cell_type": "code",
   "execution_count": null,
   "id": "1620f471",
   "metadata": {},
   "outputs": [],
   "source": [
    "sim = SourceSimulator(src)\n",
    "sim.add_point_sources(\n",
    "    location=[(0, 0), (1, 0)],\n",
    "    waveform=np.vstack([s1, s2]),  # re-using results from section 3.2 here\n",
    "    names=[\"m1-lh\", \"m1-rh\"],\n",
    ")\n",
    "_ = sim.add_noise_sources(\n",
    "    location=select_random,\n",
    "    location_params=dict(n=100),\n",
    "    waveform=one_over_f_noise,  # default, can be omitted\n",
    "    waveform_params=dict(slope=1),  # default, can be omitted\n",
    ")"
   ]
  },
  {
   "cell_type": "markdown",
   "id": "d5ad2f77",
   "metadata": {},
   "source": [
    "The `sim` object does not contain the simulated data, it only describes how the sources should be simulated. By running its `simulate` method, we obtain a `SourceConfiguration` object which actually contains all sources and their data:"
   ]
  },
  {
   "cell_type": "code",
   "execution_count": null,
   "id": "0a837642",
   "metadata": {},
   "outputs": [],
   "source": [
    "sc = sim.simulate(sfreq=sfreq, duration=duration, fwd=fwd, random_state=123)"
   ]
  },
  {
   "cell_type": "markdown",
   "id": "a331bb01",
   "metadata": {},
   "source": [
    "Each source has a name for quick access, and names can be set when creating the sources (see the `add_point_sources` call above; it is also helpful when defining ground-truth connectivity):"
   ]
  },
  {
   "cell_type": "code",
   "execution_count": null,
   "id": "f818cad6",
   "metadata": {},
   "outputs": [],
   "source": [
    "sc._sources"
   ]
  },
  {
   "cell_type": "markdown",
   "id": "47685980",
   "metadata": {},
   "source": [
    "If the names are not provided explicitly, they are (for now, this behavior might be changed) generated automatically:"
   ]
  },
  {
   "cell_type": "code",
   "execution_count": null,
   "id": "90eddc35",
   "metadata": {},
   "outputs": [],
   "source": [
    "sc._noise_sources"
   ]
  },
  {
   "cell_type": "markdown",
   "id": "69c2fa50",
   "metadata": {},
   "source": [
    "### 4.2. Inspect and debug the source configuration\n",
    "\n",
    "To get a better feeling of what we have just achieved, we can inspect the resulting source configuration in more detail. First, let's plot all sources:"
   ]
  },
  {
   "cell_type": "code",
   "execution_count": null,
   "id": "8f57aa29",
   "metadata": {},
   "outputs": [],
   "source": [
    "sc.plot(\n",
    "    subject=\"fsaverage\",\n",
    "    subjects_dir=subjects_dir,\n",
    "    colors=dict(point=\"red\"),\n",
    "    hemi=\"split\",\n",
    "    views=[\"lat\", \"med\"],\n",
    "    size=600,\n",
    "    time_viewer=False,\n",
    ")"
   ]
  },
  {
   "cell_type": "markdown",
   "id": "4fdb6e56",
   "metadata": {},
   "source": [
    "In addition, we can access each non-noise source by its name and, for example, plot its activity:"
   ]
  },
  {
   "cell_type": "code",
   "execution_count": null,
   "id": "6043f3e4",
   "metadata": {},
   "outputs": [],
   "source": [
    "sc[\"m1-lh\"]"
   ]
  },
  {
   "cell_type": "code",
   "execution_count": null,
   "id": "087ed028",
   "metadata": {},
   "outputs": [],
   "source": [
    "fig = show_waveforms(sc[\"m1-lh\"].waveform, sc.times)"
   ]
  },
  {
   "cell_type": "markdown",
   "id": "db97c388",
   "metadata": {},
   "source": [
    "**EXERCISE**: plot the activity of the source `m1-rh`."
   ]
  },
  {
   "cell_type": "markdown",
   "id": "84c52b36",
   "metadata": {},
   "source": [
    "### 4.3. Obtain data\n",
    "\n",
    "Finally, we can also obtain the simulated data in source and sensor space with `to_stc` and `to_raw` methods, respectively:"
   ]
  },
  {
   "cell_type": "code",
   "execution_count": null,
   "id": "0daeec04",
   "metadata": {},
   "outputs": [],
   "source": [
    "stc = sc.to_stc()"
   ]
  },
  {
   "cell_type": "code",
   "execution_count": null,
   "id": "ae06f67f",
   "metadata": {},
   "outputs": [],
   "source": [
    "stc"
   ]
  },
  {
   "cell_type": "markdown",
   "id": "ed85a690",
   "metadata": {},
   "source": [
    "To obtain sensor-space data, we need to provide the forward model (`fwd`) and channel locations (`info`). In addition, we can add a certain level of measurement noise (`sensor_noise_level`):"
   ]
  },
  {
   "cell_type": "code",
   "execution_count": null,
   "id": "b2e33e7b",
   "metadata": {},
   "outputs": [],
   "source": [
    "raw = sc.to_raw(fwd, info, sensor_noise_level=0.01)"
   ]
  },
  {
   "cell_type": "markdown",
   "id": "70806dcf",
   "metadata": {},
   "source": [
    "Let's inspect the simulated data and its spectra (**NOTE** `%matplotlib qt` forces the plots to open in pop-up window, use `%matplotlib inline` to disable it):"
   ]
  },
  {
   "cell_type": "code",
   "execution_count": null,
   "id": "e8f57dc4",
   "metadata": {},
   "outputs": [],
   "source": [
    "%matplotlib qt\n",
    "raw.plot(scalings=dict(eeg=2e-6))"
   ]
  },
  {
   "cell_type": "code",
   "execution_count": null,
   "id": "39351c77",
   "metadata": {},
   "outputs": [],
   "source": [
    "%matplotlib inline\n",
    "fig = raw.compute_psd(fmax=40, n_fft=2 * sfreq, n_overlap=sfreq).plot(sphere=\"eeglab\")"
   ]
  },
  {
   "cell_type": "markdown",
   "id": "ecd91a79",
   "metadata": {},
   "source": [
    "### 4.3. Adjusting the signal-to-noise ratio (SNR)\n",
    "\n",
    "In the plot above, oscillatory activity is present but not very pronounced. To control its level, we can adjust the SNR of oscillatory activity relative to 1/f noise. This has to be done when simulating the data so we redo this step below. The desired SNR is specified in the `snr_global` argument, while `snr_params` define the frequency band for the adjustment of SNR:"
   ]
  },
  {
   "cell_type": "code",
   "execution_count": null,
   "id": "1a562f4e",
   "metadata": {},
   "outputs": [],
   "source": [
    "sc = sim.simulate(\n",
    "    sfreq=sfreq,\n",
    "    duration=duration,\n",
    "    snr_global=3,\n",
    "    snr_params=dict(fmin=8, fmax=30),\n",
    "    fwd=fwd,\n",
    "    random_state=123,\n",
    ")\n",
    "raw = sc.to_raw(fwd, info, sensor_noise_level=0.01)"
   ]
  },
  {
   "cell_type": "code",
   "execution_count": null,
   "id": "4ccd117e",
   "metadata": {},
   "outputs": [],
   "source": [
    "fig = raw.compute_psd(fmax=40, n_fft=2 * sfreq, n_overlap=sfreq).plot(sphere=\"eeglab\")"
   ]
  },
  {
   "cell_type": "markdown",
   "id": "f11df55f",
   "metadata": {},
   "source": [
    "**EXERCISE**: try other values of `snr_global` to get the spectra which look reasonable to you."
   ]
  },
  {
   "cell_type": "markdown",
   "id": "8e9275c7",
   "metadata": {},
   "source": [
    "## 5. Setting up ground-truth connectivity"
   ]
  },
  {
   "cell_type": "markdown",
   "id": "c2b333e1",
   "metadata": {},
   "source": [
    "## 6. Summary\n",
    "\n",
    "Congrats, you've made it to the end of the demo! Below you can find an overview of what we've covered so far. This rather short script generates simulated EEG data for 100 sources of 1/f activity and 2 sources of alpha activity with pre-defined coupling parameters and desired SNR. Comments above function calls highlight the similarity between MEEGsim syntax and textual description that one could use in the paper."
   ]
  },
  {
   "cell_type": "code",
   "execution_count": null,
   "id": "b06e7dd1",
   "metadata": {},
   "outputs": [],
   "source": [
    "sim = SourceSimulator(src)\n",
    "\n",
    "# 100 noise sources placed randomly\n",
    "sim.add_noise_sources(location=select_random, location_params=dict(n=100))\n",
    "\n",
    "# 2 sources of narrowband (8-12 Hz) oscillation\n",
    "sim.add_point_sources(\n",
    "    location=[(0, 0), (1, 0)],\n",
    "    waveform=narrowband_oscillation,\n",
    "    waveform_params=dict(fmin=8, fmax=12),\n",
    "    names=[\"m1-lh\", \"m1-rh\"],\n",
    ")\n",
    "\n",
    "# Coupling between alpha sources with a phase lag of pi/2 and coherence of 0.5\n",
    "sim.set_coupling(\n",
    "    (\"m1-lh\", \"m1-rh\"),\n",
    "    method=ppc_shifted_copy_with_noise,\n",
    "    fmin=8,\n",
    "    fmax=12,\n",
    "    coh=0.5,\n",
    "    phase_lag=np.pi / 2,\n",
    ")\n",
    "\n",
    "# SNR of 0.5 in 8-30 Hz\n",
    "sc = sim.simulate(\n",
    "    sfreq=sfreq,\n",
    "    duration=duration,\n",
    "    snr_global=0.5,\n",
    "    snr_params=dict(fmin=8, fmax=30),\n",
    "    fwd=fwd,\n",
    "    random_state=123,\n",
    ")\n",
    "\n",
    "# 1% of sensor space noise\n",
    "raw = sc.to_raw(fwd, info, sensor_noise_level=0.01)"
   ]
  },
  {
   "cell_type": "markdown",
   "id": "4d10f185",
   "metadata": {},
   "source": [
    "![That's all, folks!](../assets/fin.png)"
   ]
  }
 ],
 "metadata": {
  "kernelspec": {
   "display_name": "meegsim-tutorial",
   "language": "python",
   "name": "python3"
  },
  "language_info": {
   "codemirror_mode": {
    "name": "ipython",
    "version": 3
   },
   "file_extension": ".py",
   "mimetype": "text/x-python",
   "name": "python",
   "nbconvert_exporter": "python",
   "pygments_lexer": "ipython3",
   "version": "3.13.5"
  }
 },
 "nbformat": 4,
 "nbformat_minor": 5
}
