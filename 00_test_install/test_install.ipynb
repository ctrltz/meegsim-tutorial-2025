{
 "cells": [
  {
   "cell_type": "code",
   "execution_count": null,
   "id": "2e04182d",
   "metadata": {},
   "outputs": [],
   "source": [
    "import matplotlib.pyplot as plt\n",
    "import mne\n",
    "\n",
    "from mne.datasets import fetch_fsaverage\n",
    "from pathlib import Path\n",
    "\n",
    "from meegsim.location import select_random\n",
    "from meegsim.simulate import SourceSimulator\n",
    "from meegsim.waveform import narrowband_oscillation\n",
    "\n",
    "from meegsim_tutorial.utils import print_emoji"
   ]
  },
  {
   "cell_type": "markdown",
   "id": "3cc3c927",
   "metadata": {},
   "source": [
    "## Set the path to the data\n",
    "\n",
    "During the workshop, we will use the [fsaverage dataset](https://mne.tools/stable/generated/mne.datasets.fetch_fsaverage.html) provided by MNE-Python. In the cell below, you can set the path to the directory where the data should be downloaded to (e.g., `~/mne_data/`).\n",
    "\n",
    "**NOTE:** the cell below contains a `FILL_ME` placeholder - it is used through all scripts/notebooks to raise an error in places where you are expected to modify the code. Remove the **whole** `FILL_ME` part, e.g., like shown below:\n",
    "\n",
    "```\n",
    "download_path = '/path/to/my/directory/of/choice'\n",
    "```"
   ]
  },
  {
   "cell_type": "code",
   "execution_count": null,
   "id": "8db8ab43",
   "metadata": {},
   "outputs": [],
   "source": [
    "download_path = \"~/mne_data\"\n",
    "# download_path = FILL_ME(\n",
    "#     \"Please provide the path to the directory where the data should be downloaded to, \"\n",
    "#     \"or use None to proceed with the default (typically, `~/mne_data/`).\"\n",
    "# )"
   ]
  },
  {
   "cell_type": "markdown",
   "id": "a0090a65",
   "metadata": {},
   "source": [
    "## Download the dataset"
   ]
  },
  {
   "cell_type": "code",
   "execution_count": null,
   "id": "b519befb",
   "metadata": {},
   "outputs": [],
   "source": [
    "print_emoji(\":down_arrow: Downloading and testing the template head model\")\n",
    "\n",
    "subjects_dir = Path(download_path) / \"MNE-fsaverage-data\"\n",
    "data_path = fetch_fsaverage(subjects_dir=subjects_dir)\n",
    "src = mne.read_source_spaces(\n",
    "    subjects_dir / \"fsaverage\" / \"bem\" / \"fsaverage-ico-5-src.fif\"\n",
    ")\n",
    "\n",
    "print_emoji(\":check_mark_button: Download complete!\")"
   ]
  },
  {
   "cell_type": "markdown",
   "id": "b7eac701",
   "metadata": {},
   "source": [
    "## Test that MEEGsim installation worked"
   ]
  },
  {
   "cell_type": "code",
   "execution_count": null,
   "id": "a29cab17",
   "metadata": {},
   "outputs": [],
   "source": [
    "print_emoji(\":gear: Testing basic functionality of MEEGsim\")\n",
    "\n",
    "sim = SourceSimulator(src)\n",
    "sim.add_noise_sources(location=select_random, location_params=dict(n=10))\n",
    "sim.add_point_sources(\n",
    "    location=select_random,\n",
    "    location_params=dict(n=3),\n",
    "    waveform=narrowband_oscillation,\n",
    "    waveform_params=dict(fmin=8, fmax=12),\n",
    ")\n",
    "\n",
    "sc = sim.simulate(sfreq=250, duration=120)\n",
    "\n",
    "print_emoji(\":check_mark_button: Basic functionality is fine!\")"
   ]
  },
  {
   "cell_type": "code",
   "execution_count": null,
   "id": "5d6ff2df",
   "metadata": {},
   "outputs": [],
   "source": [
    "print_emoji(\":gear: Testing advanced functionality of MEEGsim\")\n",
    "\n",
    "sim = SourceSimulator(src)\n",
    "sim.add_noise_sources(location=select_random, location_params=dict(n=10))\n",
    "sim.add_patch_sources(\n",
    "    location=select_random,\n",
    "    location_params=dict(n=3),\n",
    "    waveform=narrowband_oscillation,\n",
    "    waveform_params=dict(fmin=8, fmax=12),\n",
    "    extents=[10, 20, 50],\n",
    "    subject=\"fsaverage\",\n",
    "    subjects_dir=subjects_dir,\n",
    ")\n",
    "\n",
    "sc = sim.simulate(sfreq=250, duration=120, random_state=123)\n",
    "\n",
    "print_emoji(\":check_mark_button: Advanced functionality is fine!\")"
   ]
  },
  {
   "cell_type": "code",
   "execution_count": null,
   "id": "50d589e6",
   "metadata": {},
   "outputs": [],
   "source": [
    "print_emoji(\":gear: Testing that plotting works\")\n",
    "\n",
    "brain = sc.plot(\n",
    "    subject=\"fsaverage\", subjects_dir=subjects_dir, hemi=\"split\", views=[\"lat\", \"med\"]\n",
    ")\n",
    "screenshot = brain.screenshot()\n",
    "brain.close()\n",
    "\n",
    "fig, ax = plt.subplots()\n",
    "ax.imshow(screenshot)\n",
    "ax.axis(\"off\")\n",
    "\n",
    "print_emoji(\":check_mark_button: Plotting is fine!\")"
   ]
  },
  {
   "cell_type": "code",
   "execution_count": null,
   "id": "e8e67cb3",
   "metadata": {},
   "outputs": [],
   "source": [
    "print_emoji(\":check_mark_button: Everything seems to work!\")"
   ]
  }
 ],
 "metadata": {
  "kernelspec": {
   "display_name": "meegsim-tutorial",
   "language": "python",
   "name": "python3"
  },
  "language_info": {
   "codemirror_mode": {
    "name": "ipython",
    "version": 3
   },
   "file_extension": ".py",
   "mimetype": "text/x-python",
   "name": "python",
   "nbconvert_exporter": "python",
   "pygments_lexer": "ipython3",
   "version": "3.13.5"
  }
 },
 "nbformat": 4,
 "nbformat_minor": 5
}
