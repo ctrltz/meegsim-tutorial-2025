{
 "cells": [
  {
   "cell_type": "code",
   "execution_count": null,
   "id": "2e04182d",
   "metadata": {},
   "outputs": [],
   "source": [
    "import matplotlib.pyplot as plt\n",
    "import mne\n",
    "\n",
    "from mne.datasets import sample\n",
    "\n",
    "from meegsim.location import select_random\n",
    "from meegsim.simulate import SourceSimulator\n",
    "from meegsim.waveform import narrowband_oscillation\n",
    "\n",
    "from meegsim_tutorial.utils import print_emoji"
   ]
  },
  {
   "cell_type": "code",
   "execution_count": null,
   "id": "b519befb",
   "metadata": {},
   "outputs": [],
   "source": [
    "print_emoji(\":down_arrow: Downloading and testing the template head model\")\n",
    "\n",
    "data_path = sample.data_path()\n",
    "subjects_dir = data_path / \"subjects\"\n",
    "src = mne.read_source_spaces(subjects_dir / \"fsaverage\" / \"bem\" / \"fsaverage-ico-5-src.fif\")\n",
    "\n",
    "print_emoji(\":check_mark_button: Download complete!\")"
   ]
  },
  {
   "cell_type": "code",
   "execution_count": null,
   "id": "a29cab17",
   "metadata": {},
   "outputs": [],
   "source": [
    "print_emoji(\":gear: Testing basic functionality of MEEGsim\")\n",
    "\n",
    "sim = SourceSimulator(src)\n",
    "sim.add_noise_sources(location=select_random, \n",
    "                      location_params=dict(n=10))\n",
    "sim.add_point_sources(location=select_random,\n",
    "                      location_params=dict(n=3),\n",
    "                      waveform=narrowband_oscillation,\n",
    "                      waveform_params=dict(fmin=8, fmax=12))\n",
    "\n",
    "sc = sim.simulate(sfreq=250, duration=120)\n",
    "\n",
    "print_emoji(\":check_mark_button: Basic functionality is fine!\")"
   ]
  },
  {
   "cell_type": "code",
   "execution_count": null,
   "id": "5d6ff2df",
   "metadata": {},
   "outputs": [],
   "source": [
    "print_emoji(\":gear: Testing advanced functionality of MEEGsim\")\n",
    "\n",
    "sim = SourceSimulator(src)\n",
    "sim.add_noise_sources(location=select_random, \n",
    "                      location_params=dict(n=10))\n",
    "sim.add_patch_sources(location=select_random,\n",
    "                      location_params=dict(n=3),\n",
    "                      waveform=narrowband_oscillation,\n",
    "                      waveform_params=dict(fmin=8, fmax=12),\n",
    "                      extents=[10, 20, 50],\n",
    "                      subject=\"fsaverage\",\n",
    "                      subjects_dir=subjects_dir)\n",
    "\n",
    "sc = sim.simulate(sfreq=250, duration=120, random_state=123)\n",
    "\n",
    "print_emoji(\":check_mark_button: Advanced functionality is fine!\")"
   ]
  },
  {
   "cell_type": "code",
   "execution_count": null,
   "id": "50d589e6",
   "metadata": {},
   "outputs": [],
   "source": [
    "print_emoji(\":gear: Testing that plotting works\")\n",
    "\n",
    "brain = sc.plot(subject=\"fsaverage\", \n",
    "                subjects_dir=subjects_dir,\n",
    "                hemi=\"split\", views=[\"lat\", \"med\"])\n",
    "screenshot = brain.screenshot()\n",
    "brain.close()\n",
    "\n",
    "fig, ax = plt.subplots()\n",
    "ax.imshow(screenshot)\n",
    "ax.axis('off')\n",
    "\n",
    "print_emoji(\":check_mark_button: Plotting is fine!\")"
   ]
  },
  {
   "cell_type": "code",
   "execution_count": null,
   "id": "e8e67cb3",
   "metadata": {},
   "outputs": [],
   "source": [
    "print_emoji(\":check_mark_button: Everything seems to work!\")"
   ]
  }
 ],
 "metadata": {
  "kernelspec": {
   "display_name": "meegsim-tutorial",
   "language": "python",
   "name": "python3"
  },
  "language_info": {
   "codemirror_mode": {
    "name": "ipython",
    "version": 3
   },
   "file_extension": ".py",
   "mimetype": "text/x-python",
   "name": "python",
   "nbconvert_exporter": "python",
   "pygments_lexer": "ipython3",
   "version": "3.13.5"
  }
 },
 "nbformat": 4,
 "nbformat_minor": 5
}
