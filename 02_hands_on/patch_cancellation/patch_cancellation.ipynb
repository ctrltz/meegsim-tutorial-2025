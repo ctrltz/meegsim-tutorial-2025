{
 "cells": [
  {
   "cell_type": "code",
   "execution_count": null,
   "id": "27895961",
   "metadata": {},
   "outputs": [],
   "source": [
    "import matplotlib.pyplot as plt\n",
    "import mne\n",
    "import numpy as np\n",
    "\n",
    "from pathlib import Path\n",
    "\n",
    "from meegsim_tutorial.ext import get_leadfield\n",
    "from meegsim_tutorial.utils import FILL_ME, prepare_head_model\n",
    "from meegsim_tutorial.viz import make_cropped_screenshot"
   ]
  },
  {
   "cell_type": "code",
   "execution_count": null,
   "id": "b0b96736",
   "metadata": {},
   "outputs": [],
   "source": [
    "def simulate_point(fwd, hemi_idx, vertno):\n",
    "    \"\"\"\n",
    "    This function should return a SourceConfiguration (sc) with one\n",
    "    point source at a given location (hemi_idx, vertno) with the name \"target\".\n",
    "    For this example, waveforms, sampling frequency and duration do not\n",
    "    matter, feel free to set arbitrary values.\n",
    "    \"\"\"\n",
    "    FILL_ME(\"Implement the simulation of one point source\")\n",
    "\n",
    "\n",
    "def simulate_patch(fwd, hemi_idx, vertno, patch_extent_mm, subjects_dir):\n",
    "    \"\"\"\n",
    "    This function should return a SourceConfiguration (sc) with one\n",
    "    patch source of given size (patch_extent_mm) at a given location\n",
    "    (hemi_idx, vertno) with the name \"target\".\n",
    "    For this example, waveforms, sampling frequency and duration do not\n",
    "    matter, feel free to set arbitrary values.\n",
    "\n",
    "    **NOTE**: find more information on how to add a patch source here:\n",
    "    https://meegsim.readthedocs.io/en/latest/generated/meegsim.simulate.SourceSimulator.html#meegsim.simulate.SourceSimulator.add_patch_sources\n",
    "    \"\"\"\n",
    "    FILL_ME(\"Implement the simulation of one patch source\")"
   ]
  },
  {
   "cell_type": "code",
   "execution_count": null,
   "id": "45538f96",
   "metadata": {},
   "outputs": [],
   "source": [
    "download_path = FILL_ME(\n",
    "    \"Provide the same value for path as the one you used during the installation check.\"\n",
    ")\n",
    "subjects_dir = Path(download_path).expanduser().absolute() / \"MNE-fsaverage-data\""
   ]
  },
  {
   "cell_type": "code",
   "execution_count": null,
   "id": "65779993",
   "metadata": {},
   "outputs": [],
   "source": [
    "fwd, info = prepare_head_model(subjects_dir)"
   ]
  },
  {
   "cell_type": "code",
   "execution_count": null,
   "id": "602c5cee",
   "metadata": {},
   "outputs": [],
   "source": [
    "# Parameters of simulated sources: location and areas\n",
    "hemi_idx = 0\n",
    "vertno = 76290\n",
    "patch_areas_cm2 = [None, 4, 16, 64]\n",
    "\n",
    "n_areas = len(patch_areas_cm2)\n",
    "fig, axes = plt.subplots(\n",
    "    nrows=3,\n",
    "    ncols=n_areas,\n",
    "    figsize=(3 * n_areas, 6),\n",
    "    layout=\"constrained\",\n",
    "    gridspec_kw=dict(height_ratios=[1, 1, 0.1]),\n",
    ")\n",
    "\n",
    "for i_area, patch_area_cm2 in enumerate(patch_areas_cm2):\n",
    "    # Simulate a point or a patch source\n",
    "    if patch_area_cm2 is None:\n",
    "        sc = simulate_point(fwd, hemi_idx, vertno)\n",
    "        plot_title = \"point-like\"\n",
    "    else:\n",
    "        patch_extent_mm = np.sqrt(patch_area_cm2 * 100 / np.pi)\n",
    "        sc = simulate_patch(fwd, hemi_idx, vertno, patch_extent_mm, subjects_dir)\n",
    "        plot_title = f\"area = {patch_area_cm2} cm$^2$\"\n",
    "\n",
    "    # Brain plot\n",
    "    ax_brain = axes[0, i_area]\n",
    "    brain = sc.plot(subject=\"fsaverage\", subjects_dir=subjects_dir)\n",
    "    make_cropped_screenshot(brain, ax=ax_brain)\n",
    "    ax_brain.set_title(plot_title)\n",
    "\n",
    "    # Plot the leadfield\n",
    "    ax_leadfield = axes[1, i_area]\n",
    "    leadfield = get_leadfield(fwd, sc[\"target\"])\n",
    "    im, _ = mne.viz.plot_topomap(\n",
    "        leadfield, info, sphere=\"eeglab\", axes=ax_leadfield, show=False\n",
    "    )\n",
    "\n",
    "    # Colorbar\n",
    "    ax_cbar = axes[2, i_area]\n",
    "    fig.colorbar(im, cax=ax_cbar, orientation=\"horizontal\")"
   ]
  }
 ],
 "metadata": {
  "kernelspec": {
   "display_name": "meegsim-tutorial",
   "language": "python",
   "name": "python3"
  },
  "language_info": {
   "codemirror_mode": {
    "name": "ipython",
    "version": 3
   },
   "file_extension": ".py",
   "mimetype": "text/x-python",
   "name": "python",
   "nbconvert_exporter": "python",
   "pygments_lexer": "ipython3",
   "version": "3.13.5"
  }
 },
 "nbformat": 4,
 "nbformat_minor": 5
}
