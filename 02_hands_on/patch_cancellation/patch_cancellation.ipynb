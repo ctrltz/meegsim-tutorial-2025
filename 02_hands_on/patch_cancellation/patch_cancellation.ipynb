{
 "cells": [
  {
   "cell_type": "code",
   "execution_count": 4,
   "id": "27895961",
   "metadata": {},
   "outputs": [],
   "source": [
    "import matplotlib.pyplot as plt\n",
    "import numpy as np"
   ]
  },
  {
   "cell_type": "code",
   "execution_count": null,
   "id": "b0b96736",
   "metadata": {},
   "outputs": [],
   "source": [
    "from meegsim.simulate import SourceSimulator\n",
    "from meegsim.waveform import one_over_f_noise\n",
    "\n",
    "\n",
    "def simulate_patch(fwd, hemi_idx, vertno, patch_extent_mm):\n",
    "    src = fwd[\"src\"]\n",
    "    sim = SourceSimulator(src)\n",
    "    sim.add_patch_sources(\n",
    "        location=[(hemi_idx, vertno)],\n",
    "        waveform=one_over_f_noise,\n",
    "        extents=patch_extent_mm,\n",
    "        names=[\"patch\"],\n",
    "    )\n",
    "\n",
    "    sc = sim.simulate(sfreq=250, duration=10)\n",
    "\n",
    "    return sc"
   ]
  },
  {
   "cell_type": "code",
   "execution_count": null,
   "id": "e838c500",
   "metadata": {},
   "outputs": [],
   "source": [
    "def get_leadfield():\n",
    "    pass"
   ]
  },
  {
   "cell_type": "code",
   "execution_count": null,
   "id": "602c5cee",
   "metadata": {},
   "outputs": [],
   "source": [
    "# TODO: load fwd, subjects_dir, get_leadfield\n",
    "fwd = None\n",
    "subjects_dir = None\n",
    "\n",
    "patch_areas_cm2 = [1, 4, 16, 64]\n",
    "\n",
    "fig, axes = plt.subplots(nrows=2, ncols=len(patch_areas_cm2), layout=\"constrained\")\n",
    "for i_area, patch_area_cm2 in enumerate(patch_areas_cm2):\n",
    "    patch_extent_mm = np.sqrt(patch_area_cm2 * 100 / np.pi)\n",
    "    sc = simulate_patch(fwd, \"lh\", 0, patch_extent_mm)\n",
    "\n",
    "    # brain plot\n",
    "    ax_brain = axes[0, i_area]\n",
    "    sc.plot(subject=\"fsaverage\", subjects_dir=subjects_dir, axes=ax_brain)\n",
    "\n",
    "    # plot leadfield\n",
    "    ax_leadfield = axes[1, i_area]\n",
    "    leadfield = get_leadfield(sc[\"patch\"])"
   ]
  }
 ],
 "metadata": {
  "kernelspec": {
   "display_name": "meegsim-tutorial",
   "language": "python",
   "name": "python3"
  },
  "language_info": {
   "codemirror_mode": {
    "name": "ipython",
    "version": 3
   },
   "file_extension": ".py",
   "mimetype": "text/x-python",
   "name": "python",
   "nbconvert_exporter": "python",
   "pygments_lexer": "ipython3",
   "version": "3.13.5"
  }
 },
 "nbformat": 4,
 "nbformat_minor": 5
}
